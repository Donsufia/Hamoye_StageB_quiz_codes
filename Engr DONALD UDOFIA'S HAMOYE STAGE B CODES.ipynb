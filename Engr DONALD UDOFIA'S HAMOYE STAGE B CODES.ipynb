{
 "cells": [
  {
   "cell_type": "code",
   "execution_count": null,
   "metadata": {},
   "outputs": [],
   "source": [
    "%matplotlib notebook\n",
    "import numpy as np\n",
    "import pandas as pd\n",
    "import seaborn as sns\n",
    "import matplotlib.pyplot as plt\n",
    "from sklearn.model_selection import train_test_split\n",
    "from sklearn.metrics import mean_absolute_error , mean_squared_error, r2_score\n",
    "from sklearn.preprocessing import MinMaxScaler                         \n",
    "from sklearn.linear_model import LinearRegression, Ridge, Lasso, ElasticNet\n"
   ]
  },
  {
   "cell_type": "code",
   "execution_count": null,
   "metadata": {},
   "outputs": [],
   "source": [
    "df = pd.read_csv('energydata_complete.csv')"
   ]
  },
  {
   "cell_type": "code",
   "execution_count": null,
   "metadata": {},
   "outputs": [],
   "source": [
    "df = df.drop([\"date\", \"lights\"], axis=1)"
   ]
  },
  {
   "cell_type": "code",
   "execution_count": null,
   "metadata": {},
   "outputs": [],
   "source": [
    "scaled_df = MinMaxScaler()\n",
    "normalized_df = pd.DataFrame(scaled_df.fit_transform(df), columns=df.columns)\n",
    "target=normalized_df[\"Appliances\"]\n",
    "target"
   ]
  },
  {
   "cell_type": "code",
   "execution_count": null,
   "metadata": {},
   "outputs": [],
   "source": [
    "normalized=normalized_df.drop(\"Appliances\",axis=1)\n",
    "features =normalized.set_index([\"T2\",\"T6\"])\n",
    "features"
   ]
  },
  {
   "cell_type": "code",
   "execution_count": null,
   "metadata": {},
   "outputs": [],
   "source": [
    "X_train , X_test , y_train, y_test = train_test_split(features,target, test_size=0.3, random_state=42)\n"
   ]
  },
  {
   "cell_type": "code",
   "execution_count": null,
   "metadata": {},
   "outputs": [],
   "source": [
    "model = LinearRegression().fit(X_train,y_train)"
   ]
  },
  {
   "cell_type": "code",
   "execution_count": null,
   "metadata": {},
   "outputs": [],
   "source": [
    "prediction =model.predict(X_test)\n"
   ]
  },
  {
   "cell_type": "code",
   "execution_count": null,
   "metadata": {},
   "outputs": [],
   "source": [
    "# QUESTION 2\n",
    "lasso = Lasso(alpha=0.001).fit(X_train, y_train)\n",
    "prediction_2=lasso.predict(X_test)\n",
    "print(\"Number of feature: {:}\".format(np.sum(lasso.coef_!=0)))"
   ]
  },
  {
   "cell_type": "code",
   "execution_count": null,
   "metadata": {},
   "outputs": [],
   "source": [
    "# QUESTION 4\n",
    "def get_weight_df(model, feat, col_name):\n",
    "    # get_weight_df returns the coefficients or weights of every feature\n",
    "    weight_1 = pd.Series(model.coef_,feat.columns).sort_values()          \n",
    "    weight_df = pd.DataFrame(weight_1).reset_index()                      \n",
    "    weight_df.columns=[\"Features\", col_name]                                  \n",
    "    weight_df[col_name].round(3) \n",
    "    return weight_df\n",
    "\n",
    "linear_model_weights= get_weight_df(model, X_train, \"Linear_model_weight\")\n",
    "linear_model_weights"
   ]
  },
  {
   "cell_type": "code",
   "execution_count": null,
   "metadata": {},
   "outputs": [],
   "source": [
    "# QUESTION 6\n",
    "rss = np.sum(np.square(y_test - prediction))\n",
    "print(\"The sum of squared residual is:{:.2f}\".format(rss))"
   ]
  },
  {
   "cell_type": "code",
   "execution_count": null,
   "metadata": {},
   "outputs": [],
   "source": [
    "# QUESTION 8\n",
    "r2 = r2_score(y_test,prediction)\n",
    "print(\"The Coefficient of determination is : {:.2f}\".format(r2))"
   ]
  },
  {
   "cell_type": "code",
   "execution_count": null,
   "metadata": {},
   "outputs": [],
   "source": [
    "# QUESTION 10\n",
    "mea = mean_absolute_error(y_test,prediction)\n",
    "print(\"The mean absolute error is : {:.2f}\".format(mea))\n"
   ]
  },
  {
   "cell_type": "code",
   "execution_count": null,
   "metadata": {},
   "outputs": [],
   "source": [
    "# QUESTION 11\n",
    "lasso = Lasso(alpha=0.001).fit(X_train, y_train)\n",
    "prediction_2=lasso.predict(X_test)\n",
    "rmse = np.sqrt(mean_squared_error(y_test,prediction_2))\n",
    "print(\"The root mean square error is : {:.3f}\".format(rmse))"
   ]
  },
  {
   "cell_type": "code",
   "execution_count": null,
   "metadata": {},
   "outputs": [],
   "source": [
    "# QUESTION 13\n",
    "ridge =Ridge(alpha=0.4).fit(X_train, y_train)\n",
    "prediction_1=ridge.predict(X_test)\n",
    "rmse = np.sqrt(mean_squared_error(y_test,prediction_1))\n",
    "print(\"The root mean square error is : {:.3f}\".format(rmse))\n"
   ]
  },
  {
   "cell_type": "code",
   "execution_count": null,
   "metadata": {},
   "outputs": [],
   "source": [
    "# QUESTION 17\n",
    "rmse = np.sqrt(mean_squared_error(y_test,prediction))\n",
    "print(\"The mean absolute error is : {:.3f}\".format(rmse))"
   ]
  },
  {
   "cell_type": "code",
   "execution_count": null,
   "metadata": {},
   "outputs": [],
   "source": [
    "# QUESTION 18\n",
    "r2 = r2_score(y_test,prediction)\n",
    "print(\"The R_2 value is : {:.3f}\".format(r2))"
   ]
  }
 ],
 "metadata": {
  "kernelspec": {
   "display_name": "Python 3",
   "language": "python",
   "name": "python3"
  },
  "language_info": {
   "codemirror_mode": {
    "name": "ipython",
    "version": 3
   },
   "file_extension": ".py",
   "mimetype": "text/x-python",
   "name": "python",
   "nbconvert_exporter": "python",
   "pygments_lexer": "ipython3",
   "version": "3.7.6"
  }
 },
 "nbformat": 4,
 "nbformat_minor": 2
}
